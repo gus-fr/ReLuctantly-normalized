{
 "cells": [
  {
   "cell_type": "code",
   "execution_count": 3,
   "metadata": {},
   "outputs": [
    {
     "name": "stderr",
     "output_type": "stream",
     "text": [
      "/Users/g.frigo/.pyenv/versions/3.11.1/envs/relu/lib/python3.11/site-packages/datasets/load.py:1429: FutureWarning: The repository for wikipedia contains custom code which must be executed to correctly load the dataset. You can inspect the repository content at https://hf.co/datasets/wikipedia\n",
      "You can avoid this message in future by passing the argument `trust_remote_code=True`.\n",
      "Passing `trust_remote_code=True` will be mandatory to load this dataset from the next major release of `datasets`.\n",
      "  warnings.warn(\n"
     ]
    },
    {
     "data": {
      "application/vnd.jupyter.widget-view+json": {
       "model_id": "b9083e251e1c454b95f956a5f70808c9",
       "version_major": 2,
       "version_minor": 0
      },
      "text/plain": [
       "Downloading builder script:   0%|          | 0.00/35.9k [00:00<?, ?B/s]"
      ]
     },
     "metadata": {},
     "output_type": "display_data"
    },
    {
     "data": {
      "application/vnd.jupyter.widget-view+json": {
       "model_id": "0b5f139f56d0457f8b723eb197a125e9",
       "version_major": 2,
       "version_minor": 0
      },
      "text/plain": [
       "Downloading readme:   0%|          | 0.00/16.3k [00:00<?, ?B/s]"
      ]
     },
     "metadata": {},
     "output_type": "display_data"
    },
    {
     "data": {
      "application/vnd.jupyter.widget-view+json": {
       "model_id": "74db3575c6604fd4a807cbc82e02a7b2",
       "version_major": 2,
       "version_minor": 0
      },
      "text/plain": [
       "Downloading:   0%|          | 0.00/15.3k [00:00<?, ?B/s]"
      ]
     },
     "metadata": {},
     "output_type": "display_data"
    },
    {
     "data": {
      "application/vnd.jupyter.widget-view+json": {
       "model_id": "615e7b57162e4f51a9e9da64aa96bbb0",
       "version_major": 2,
       "version_minor": 0
      },
      "text/plain": [
       "Downloading:   0%|          | 0.00/20.3G [00:00<?, ?B/s]"
      ]
     },
     "metadata": {},
     "output_type": "display_data"
    }
   ],
   "source": [
    "from datasets import load_dataset\n",
    "dataset = load_dataset('wikipedia', \"20220301.en\")"
   ]
  },
  {
   "cell_type": "code",
   "execution_count": 93,
   "metadata": {},
   "outputs": [],
   "source": [
    "import mmap\n",
    "import os\n",
    "with open(\"test.db\", mode=\"a+\", encoding=\"utf-8\") as file_obj:\n",
    "    os.ftruncate(file_obj.fileno(), 2**30)\n",
    "\n",
    "#    with mmap.mmap(file_obj.fileno(), length=0, access=mmap.ACCESS_WRITE) as mmap_obj:\n",
    "#        mmap_obj.write(bytes(\"\".join([chr(i) for i in range(256)]),\"utf-8\"))\n",
    "#        mmap_obj.flush()\n",
    "#        print(mmap_obj.size())\n",
    "\n",
    "#def billy(s:mmap,pagesize)"
   ]
  },
  {
   "cell_type": "code",
   "execution_count": 98,
   "metadata": {},
   "outputs": [
    {
     "name": "stdout",
     "output_type": "stream",
     "text": [
      "[462, 67, 27, 15671, 144, 128, 76, 2467, 1086, 1952, 253, 4234, 3035, 4574, 2005, 5003, 547, 9222, 4847, 987, 4166, 107, 5579, 1556, 6754, 1311, 2299, 1645, 2724, 4445, 1880, 386, 1342, 924, 144, 160, 83, 90, 367, 24, 396, 20, 31, 443, 60, 58, 39, 92, 31, 21, 51, 66, 17, 34, 43, 43, 16, 1, 6, 23, 2]\n"
     ]
    }
   ],
   "source": [
    "from typing import TextIO\n",
    "def read_chunk(file:TextIO,chunk_size:int=1024)->str:\n",
    "    while True:\n",
    "        str_chunk = file.read(chunk_size)\n",
    "        if not str_chunk:\n",
    "            break\n",
    "        yield str_chunk\n",
    "\n",
    "char_frequency={}\n",
    "with open(\"resources/shakespeare.txt\", mode=\"r\", encoding=\"utf-8\") as file_obj:\n",
    "    for str_chunk in read_chunk(file_obj):\n",
    "        for char in str_chunk:\n",
    "            if char in char_frequency:\n",
    "                char_frequency[char]+=1\n",
    "            else:\n",
    "                char_frequency[char]=1\n",
    "\n",
    "#itemize\n",
    "char=[]\n",
    "counts=[]\n",
    "for item,count in char_frequency.items():\n",
    "    char.append(item)\n",
    "    counts.append(count)\n"
   ]
  },
  {
   "cell_type": "code",
   "execution_count": 124,
   "metadata": {},
   "outputs": [
    {
     "name": "stdout",
     "output_type": "stream",
     "text": [
      "  dw n lg ph   nDrstodilsree rtig hdau\n",
      " rs.h wfhepholsbo a sedtwl\n",
      "irmrwxd,sn \n",
      "kv\n",
      "ana cfre hnch\n",
      "roaumuem  tghuwy),ishu  stt.soaesm hc r  \n",
      "osleeeetyhueoddgnseMr  mdsea urhldonae dtdrull ek\n",
      "   hr ntlyaido ehf woshsebxudgrtseawwiocotlen  rtcuosswas wit ood,,fath.eaoY bnihd e o no\n",
      "renhBl,insBu rh es\n",
      "t,ronie stedtoi mtO ioonostnTeiat gs\n",
      "rh opn  aorc\n",
      "er he\n",
      "crg tuinasototrgnaeebbsvhsun amwenfileAnd sa.ee we l\n",
      "e  tndr\n",
      "onvse  i'y, hiv s uo, tnhrara,essteces\n",
      " tuev    b h,da \n",
      " hhh ttlee ndhv b\n",
      "tl  gro roeao\n"
     ]
    }
   ],
   "source": [
    "\"super basic inference\"\n",
    "import random\n",
    "print(\"\".join(random.choices(population=char,weights=counts,k=500)))"
   ]
  },
  {
   "cell_type": "code",
   "execution_count": 94,
   "metadata": {},
   "outputs": [
    {
     "name": "stdout",
     "output_type": "stream",
     "text": [
      "65450\n"
     ]
    }
   ],
   "source": [
    "with open(\"test.db\", mode=\"r+\", encoding=\"utf-8\") as file_obj:\n",
    "    with mmap.mmap(file_obj.fileno(), length=0, access=mmap.ACCESS_WRITE) as mmap_obj:\n",
    "        print(int.from_bytes(mmap_obj[500:504],signed=False))\n",
    "#        mmap_obj[500:504]=0xFFAA.to_bytes(4,signed=False)\n",
    "\n"
   ]
  }
 ],
 "metadata": {
  "kernelspec": {
   "display_name": "relu",
   "language": "python",
   "name": "python3"
  },
  "language_info": {
   "codemirror_mode": {
    "name": "ipython",
    "version": 3
   },
   "file_extension": ".py",
   "mimetype": "text/x-python",
   "name": "python",
   "nbconvert_exporter": "python",
   "pygments_lexer": "ipython3",
   "version": "3.11.1"
  }
 },
 "nbformat": 4,
 "nbformat_minor": 2
}
