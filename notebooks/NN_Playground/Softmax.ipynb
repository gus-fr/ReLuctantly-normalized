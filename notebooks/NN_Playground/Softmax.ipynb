{
 "cells": [
  {
   "cell_type": "code",
   "execution_count": 4,
   "metadata": {},
   "outputs": [],
   "source": [
    "#imports\n",
    "import numpy as np\n",
    "import ipywidgets as widgets\n",
    "from ipywidgets import interact,fixed\n",
    "import seaborn as sns\n",
    "import pandas as pd\n",
    "import matplotlib.pyplot as plt\n",
    "from IPython.display import display\n"
   ]
  },
  {
   "cell_type": "code",
   "execution_count": 13,
   "metadata": {},
   "outputs": [],
   "source": [
    "#softmax def\n",
    "# inspired by the numerical stable version in\n",
    "# https://jaykmody.com/blog/stable-softmax/\n",
    "def softmax(logits,temperature):\n",
    "    e_x = np.exp((logits - np.max(logits))/temperature)\n",
    "    return e_x / e_x.sum()\n",
    "\n",
    "def plot_softmax(temperature):\n",
    "    global logits\n",
    "    fig, ax = plt.subplots(ncols=2,figsize =(16, 9))\n",
    "    ax[0].barh(y=list(range(len(logits))), color ='b', label ='logits',width=logits,alpha = 0.4)\n",
    "    ax[1].barh(y=list(range(len(logits))), color ='g', label ='softmax',width = softmax(logits,temperature),alpha = 0.4) \n",
    "    ax[0].set_title(\"Logits\")\n",
    "    ax[1].set_title(\"Softmax\")\n",
    "def get_logits(n):\n",
    "    global logits\n",
    "    logits=np.random.uniform(size=n)\n",
    "    print(logits)\n",
    "\n"
   ]
  },
  {
   "cell_type": "markdown",
   "metadata": {},
   "source": [
    "# Softmax!\n",
    "The good ol normalizer for classification, whose definition is...\n",
    "$$\\text{softmax}(x)_i = \\frac{e^{x_i}}{\\sum_j e^{x_j}} $$\n",
    "\n",
    "The typical use case is at the end of a layer to convert logits (unnormalized predictions from a model) to a probability - where all items are nonzero, and they sum up to 1\n",
    "\n",
    "There's a \"spiked\" version of softmax that has an added temperature parameter T\n",
    "\n",
    "$$\\text{softmax}(x)_i = \\frac{e^{x_i/T}}{\\sum_j e^{x_j/T}} $$\n",
    "\n",
    "the intuition is - as the temperature gets hotter (as T approaches infinity) we get more uniformity - all values equal, as it gets cooler (as T approaches 0) we get more determinism where softmax becomes \"regular\" argmax, setting all the weight to the highest(s) values in the logits.\n",
    "\n",
    "When T = 1, we get back to \"regular\" softmax\n",
    "\n",
    "Visually..."
   ]
  },
  {
   "cell_type": "code",
   "execution_count": 12,
   "metadata": {},
   "outputs": [
    {
     "data": {
      "application/vnd.jupyter.widget-view+json": {
       "model_id": "8a4463ae21a346cb9f16eb4a6a083bbd",
       "version_major": 2,
       "version_minor": 0
      },
      "text/plain": [
       "interactive(children=(Dropdown(description='Total items', layout=Layout(width='max-content'), options=(2, 3, 4…"
      ]
     },
     "metadata": {},
     "output_type": "display_data"
    },
    {
     "data": {
      "application/vnd.jupyter.widget-view+json": {
       "model_id": "b2bf69a0cb8845a796ffd24c52f1e592",
       "version_major": 2,
       "version_minor": 0
      },
      "text/plain": [
       "interactive(children=(FloatLogSlider(value=1.0, description='Temperature (Log Scale)', min=-4.0), Output()), _…"
      ]
     },
     "metadata": {},
     "output_type": "display_data"
    },
    {
     "data": {
      "text/plain": [
       "<function __main__.plot_softmax(temperature)>"
      ]
     },
     "execution_count": 12,
     "metadata": {},
     "output_type": "execute_result"
    }
   ],
   "source": [
    "dropdown = widgets.Dropdown(\n",
    "    options=list(range(2,11)),\n",
    "    value=2,\n",
    "    description='Total items',\n",
    "    disabled=False,\n",
    "    layout={'width': 'max-content'}\n",
    ")\n",
    "temperature_widget = widgets.FloatLogSlider(\n",
    "    value=1,\n",
    "    base=10,\n",
    "    min=-4,\n",
    "    max=4,\n",
    "    step=0.1,\n",
    "    description='Temperature (Log Scale)'\n",
    ")\n",
    "\n",
    "interact(get_logits,n=dropdown)\n",
    "\n",
    "interact(plot_softmax,temperature=temperature_widget)"
   ]
  }
 ],
 "metadata": {
  "kernelspec": {
   "display_name": "NN",
   "language": "python",
   "name": "python3"
  },
  "language_info": {
   "codemirror_mode": {
    "name": "ipython",
    "version": 3
   },
   "file_extension": ".py",
   "mimetype": "text/x-python",
   "name": "python",
   "nbconvert_exporter": "python",
   "pygments_lexer": "ipython3",
   "version": "3.10.9"
  }
 },
 "nbformat": 4,
 "nbformat_minor": 2
}
